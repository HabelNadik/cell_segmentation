{
 "cells": [
  {
   "cell_type": "code",
   "execution_count": 1,
   "metadata": {},
   "outputs": [
    {
     "name": "stdout",
     "output_type": "stream",
     "text": [
      "True\n"
     ]
    }
   ],
   "source": [
    "from os import listdir, mkdir\n",
    "from os.path import join, isfile, isdir\n",
    "import shutil\n",
    "import json\n",
    "\n",
    "import numpy as np\n",
    "import skimage\n",
    "import cv2\n",
    "\n",
    "import matplotlib.pyplot as plt\n",
    "%matplotlib inline\n",
    "\n",
    "win_root = 'C:/'\n",
    "nix_root = '/mnt/c/'\n",
    "image_an_folder = win_root + 'Users/bhaladik/mrcnn_development/training_data/custom_training1'\n",
    "print(isdir(image_an_folder))"
   ]
  },
  {
   "cell_type": "code",
   "execution_count": 2,
   "metadata": {},
   "outputs": [],
   "source": [
    "#filepath = image_an_folder + \"/add_nuclei_11_annotated.json\"\n",
    "filepath = image_an_folder + \"/add_nuclei_12_partially_annotated_corrected.json\"\n",
    "in_file = open(filepath, 'r')\n",
    "annotation_json = json.load(in_file)\n",
    "in_file.close()"
   ]
  },
  {
   "cell_type": "code",
   "execution_count": 3,
   "metadata": {},
   "outputs": [
    {
     "name": "stdout",
     "output_type": "stream",
     "text": [
      "dict_keys(['_via_settings', '_via_img_metadata', '_via_attributes', '_via_data_format_version', '_via_image_id_list'])\n"
     ]
    }
   ],
   "source": [
    "print(annotation_json.keys())"
   ]
  },
  {
   "cell_type": "code",
   "execution_count": 4,
   "metadata": {},
   "outputs": [
    {
     "name": "stdout",
     "output_type": "stream",
     "text": [
      "dict_keys(['add_nuclei_1.png39426', 'add_nuclei_2.png41144', 'add_nuclei_3.png26307', 'add_nuclei_4.png22082', 'add_nuclei_5.png40092', 'add_nuclei_6.png117354', 'add_nuclei_7.png66678', 'add_nuclei_8.png132497', 'add_nuclei_9.png71328', 'add_nuclei_10.png52914', 'add_nuclei_11.png54986', 'add_nuclei_12.png60171', 'add_nuclei_13.png36454', 'add_nuclei_14.png70213', 'add_nuclei_15.png84068', 'add_nuclei_16.png44034', 'add_nuclei_17.png63138', 'add_nuclei_18.png27954', 'add_nuclei_19.png51410', 'add_nuclei_20.png72452'])\n"
     ]
    }
   ],
   "source": [
    "#print(annotation_json['_via_img_metadata'])\n",
    "annotation = annotation_json['_via_img_metadata']\n",
    "print(annotation.keys())"
   ]
  },
  {
   "cell_type": "code",
   "execution_count": 6,
   "metadata": {},
   "outputs": [
    {
     "name": "stdout",
     "output_type": "stream",
     "text": [
      "[{'shape_attributes': {'name': 'polygon', 'all_points_x': [22, 24, 28, 29, 29, 26, 23, 22, 21], 'all_points_y': [77, 80, 79, 77, 73, 71, 71, 74, 76]}, 'region_attributes': {}}, {'shape_attributes': {'name': 'polygon', 'all_points_x': [88, 92, 93, 93, 93, 92, 91, 90, 87, 86, 83, 82, 81, 82, 86], 'all_points_y': [56, 57, 60, 63, 65, 66, 67, 68, 68, 68, 66, 64, 61, 58, 56]}, 'region_attributes': {}}, {'shape_attributes': {'name': 'polygon', 'all_points_x': [120, 119, 119, 120, 122, 124, 124, 125, 126, 128, 129, 129, 128, 127, 126, 126, 126, 125], 'all_points_y': [0, 2, 3, 6, 6, 7, 6, 8, 8, 8, 7, 5, 3, 3, 3, 2, 1, 0]}, 'region_attributes': {}}, {'shape_attributes': {'name': 'polygon', 'all_points_x': [125, 127, 128, 128, 128, 128, 128, 128, 128, 128, 127, 126, 126, 125, 124, 123, 122, 121, 121, 121, 121, 122, 123, 124], 'all_points_y': [124, 125, 126, 127, 129, 131, 132, 132, 134, 135, 135, 135, 134, 133, 133, 133, 132, 132, 131, 129, 127, 125, 125, 124]}, 'region_attributes': {}}, {'shape_attributes': {'name': 'polygon', 'all_points_x': [264, 266, 267, 268, 268, 268, 267, 266, 264, 263, 262, 261, 261, 263], 'all_points_y': [70, 70, 71, 73, 74, 76, 77, 78, 78, 78, 76, 74, 72, 71]}, 'region_attributes': {}}, {'shape_attributes': {'name': 'polygon', 'all_points_x': [334, 332, 331, 331, 332, 332, 334, 337, 338, 338, 338, 337, 335, 334], 'all_points_y': [22, 23, 24, 26, 28, 28, 29, 29, 27, 25, 23, 22, 22, 22]}, 'region_attributes': {}}, {'shape_attributes': {'name': 'polygon', 'all_points_x': [340, 341, 342, 342, 342, 342, 341, 340, 339, 338, 338, 338, 338], 'all_points_y': [23, 24, 24, 26, 27, 28, 28, 29, 29, 28, 27, 25, 24]}, 'region_attributes': {}}, {'shape_attributes': {'name': 'polygon', 'all_points_x': [339, 340, 340, 340, 340, 339, 338, 338, 338, 338], 'all_points_y': [19, 20, 21, 22, 22, 22, 22, 22, 21, 20]}, 'region_attributes': {}}, {'shape_attributes': {'name': 'polygon', 'all_points_x': [459, 459, 459, 459, 458, 457, 456, 455, 455, 455, 457], 'all_points_y': [0, 1, 2, 3, 4, 4, 4, 3, 2, 1, 0]}, 'region_attributes': {}}, {'shape_attributes': {'name': 'polygon', 'all_points_x': [462, 463, 465, 465, 465, 459, 460, 460, 461], 'all_points_y': [4, 4, 3, 1, 0, 1, 2, 3, 3]}, 'region_attributes': {}}, {'shape_attributes': {'name': 'polygon', 'all_points_x': [427, 430, 434, 436, 436, 436, 434, 432, 429, 427, 424, 423, 422, 422, 422, 423, 424], 'all_points_y': [41, 42, 40, 36, 34, 29, 26, 25, 25, 25, 26, 29, 31, 34, 36, 38, 40]}, 'region_attributes': {}}, {'shape_attributes': {'name': 'polygon', 'all_points_x': [460, 464, 465, 466, 465, 463, 462, 460, 458, 456, 455, 456, 457, 458], 'all_points_y': [35, 35, 37, 39, 40, 43, 44, 45, 45, 43, 42, 40, 38, 37]}, 'region_attributes': {}}, {'shape_attributes': {'name': 'polygon', 'all_points_x': [445, 445, 445, 443, 442, 441, 440, 442, 442, 443], 'all_points_y': [48, 51, 52, 52, 52, 51, 49, 47, 47, 47]}, 'region_attributes': {}}, {'shape_attributes': {'name': 'polygon', 'all_points_x': [448, 449, 451, 451, 451, 449, 447, 446, 445, 445, 446], 'all_points_y': [46, 47, 48, 49, 51, 53, 53, 53, 52, 48, 47]}, 'region_attributes': {}}, {'shape_attributes': {'name': 'polygon', 'all_points_x': [483, 485, 486, 487, 487, 485, 483, 482, 480, 480, 480, 480, 482], 'all_points_y': [55, 55, 56, 58, 60, 64, 64, 64, 61, 61, 59, 57, 56]}, 'region_attributes': {}}, {'shape_attributes': {'name': 'polygon', 'all_points_x': [489, 490, 490, 489, 488, 487, 486, 488], 'all_points_y': [64, 64, 66, 67, 68, 68, 66, 64]}, 'region_attributes': {}}, {'shape_attributes': {'name': 'polygon', 'all_points_x': [380, 383, 384, 385, 385, 384, 383, 381, 380, 378, 377, 377, 377, 378, 379], 'all_points_y': [120, 120, 121, 124, 126, 127, 128, 129, 128, 127, 126, 124, 122, 121, 120]}, 'region_attributes': {}}, {'shape_attributes': {'name': 'polygon', 'all_points_x': [431, 432, 434, 435, 435, 436, 434, 432, 430, 429, 428, 428, 429], 'all_points_y': [148, 148, 148, 150, 152, 156, 156, 155, 155, 154, 152, 151, 149]}, 'region_attributes': {}}, {'shape_attributes': {'name': 'polygon', 'all_points_x': [432, 434, 433, 432, 431, 430, 429, 430, 431, 431], 'all_points_y': [156, 157, 159, 161, 161, 160, 159, 157, 156, 156]}, 'region_attributes': {}}, {'shape_attributes': {'name': 'polygon', 'all_points_x': [429, 429, 428, 427, 426, 426, 426, 427, 427, 428, 429], 'all_points_y': [155, 156, 157, 158, 157, 156, 154, 153, 153, 153, 154]}, 'region_attributes': {}}, {'shape_attributes': {'name': 'polygon', 'all_points_x': [455, 458, 459, 459, 457, 456, 454, 453, 452, 452, 452, 453], 'all_points_y': [173, 173, 175, 177, 181, 181, 181, 180, 179, 177, 175, 174]}, 'region_attributes': {}}, {'shape_attributes': {'name': 'polygon', 'all_points_x': [213, 215, 217, 218, 218, 217, 217, 216, 214, 212, 212, 210, 209, 209, 209, 209, 211, 213], 'all_points_y': [168, 167, 167, 165, 163, 162, 160, 159, 159, 160, 160, 162, 163, 163, 165, 167, 168, 168]}, 'region_attributes': {}}, {'shape_attributes': {'name': 'polygon', 'all_points_x': [179, 183, 183, 183, 183, 181, 179, 178, 176, 176, 176, 175, 177, 177], 'all_points_y': [178, 177, 175, 173, 172, 171, 171, 171, 172, 173, 174, 176, 178, 178]}, 'region_attributes': {}}, {'shape_attributes': {'name': 'polygon', 'all_points_x': [462, 462, 463, 465, 467, 467, 467, 466, 465, 463, 462], 'all_points_y': [191, 193, 194, 194, 195, 192, 190, 189, 188, 188, 190]}, 'region_attributes': {}}, {'shape_attributes': {'name': 'polygon', 'all_points_x': [459, 460, 460, 459, 458, 457, 458], 'all_points_y': [192, 191, 190, 189, 189, 190, 192]}, 'region_attributes': {}}, {'shape_attributes': {'name': 'polygon', 'all_points_x': [448, 446, 445, 444, 443, 444, 445, 446, 450, 451, 453, 454, 455, 455, 455, 453, 452, 450], 'all_points_y': [207, 208, 209, 211, 213, 215, 217, 218, 220, 219, 218, 217, 216, 214, 212, 209, 208, 207]}, 'region_attributes': {}}, {'shape_attributes': {'name': 'polygon', 'all_points_x': [462, 463, 465, 465, 465, 463, 461, 460, 460, 460, 462], 'all_points_y': [203, 203, 203, 201, 200, 199, 199, 199, 201, 202, 203]}, 'region_attributes': {}}, {'shape_attributes': {'name': 'polygon', 'all_points_x': [467, 467, 467, 466, 465, 464, 463, 462, 462, 462, 463, 464, 465], 'all_points_y': [196, 197, 198, 199, 200, 199, 199, 198, 197, 196, 195, 194, 195]}, 'region_attributes': {}}, {'shape_attributes': {'name': 'polygon', 'all_points_x': [65, 65, 64, 64, 65, 66, 67, 71, 71, 71, 70, 67, 66], 'all_points_y': [220, 222, 223, 225, 227, 228, 228, 226, 225, 224, 222, 220, 220]}, 'region_attributes': {}}, {'shape_attributes': {'name': 'polygon', 'all_points_x': [62, 63, 64, 65, 65, 65, 64, 63, 62, 61, 60, 60, 61], 'all_points_y': [217, 216, 216, 218, 219, 220, 221, 221, 221, 221, 220, 219, 218]}, 'region_attributes': {}}, {'shape_attributes': {'name': 'polygon', 'all_points_x': [313, 314, 316, 318, 319, 319, 319, 317, 315, 313, 313, 312, 312], 'all_points_y': [246, 246, 246, 247, 248, 250, 251, 252, 253, 253, 252, 249, 248]}, 'region_attributes': {}}, {'shape_attributes': {'name': 'polygon', 'all_points_x': [310, 312, 313, 313, 313, 311, 310, 309, 308, 308, 308, 308], 'all_points_y': [255, 255, 254, 252, 251, 249, 249, 250, 250, 252, 253, 254]}, 'region_attributes': {}}, {'shape_attributes': {'name': 'polygon', 'all_points_x': [311, 312, 313, 313, 311, 310, 310, 310, 310], 'all_points_y': [243, 243, 244, 246, 247, 246, 246, 245, 244]}, 'region_attributes': {}}, {'shape_attributes': {'name': 'polygon', 'all_points_x': [282, 283, 284, 284, 284, 282, 280, 280, 280, 280, 281], 'all_points_y': [294, 294, 295, 297, 298, 299, 299, 298, 296, 295, 294]}, 'region_attributes': {}}, {'shape_attributes': {'name': 'polygon', 'all_points_x': [275, 276, 277, 278, 278, 277, 276, 274, 274], 'all_points_y': [291, 291, 291, 291, 289, 288, 288, 289, 291]}, 'region_attributes': {}}, {'shape_attributes': {'name': 'polygon', 'all_points_x': [272, 273, 273, 272, 271, 269, 269, 269, 270, 270], 'all_points_y': [298, 297, 295, 294, 294, 294, 295, 296, 297, 297]}, 'region_attributes': {}}, {'shape_attributes': {'name': 'polygon', 'all_points_x': [277, 277, 279, 279, 279, 279, 278, 277, 276, 275, 274, 273, 273, 273, 273, 273, 274, 275], 'all_points_y': [299, 298, 297, 296, 294, 293, 292, 291, 291, 291, 291, 292, 293, 294, 295, 297, 298, 298]}, 'region_attributes': {}}, {'shape_attributes': {'name': 'polygon', 'all_points_x': [221, 222, 222, 221, 220, 219, 219, 220, 220], 'all_points_y': [291, 290, 288, 288, 288, 288, 290, 290, 291]}, 'region_attributes': {}}, {'shape_attributes': {'name': 'polygon', 'all_points_x': [130, 132, 134, 135, 137, 137, 136, 135, 134, 133, 130, 130, 129, 128, 128, 129], 'all_points_y': [327, 327, 327, 327, 326, 324, 322, 321, 321, 321, 321, 321, 322, 323, 324, 326]}, 'region_attributes': {}}, {'shape_attributes': {'name': 'polygon', 'all_points_x': [130, 132, 132, 133, 133, 132, 131, 129, 128, 127, 127, 127, 128, 129], 'all_points_y': [334, 333, 332, 331, 328, 327, 327, 327, 327, 328, 329, 331, 333, 334]}, 'region_attributes': {}}, {'shape_attributes': {'name': 'polygon', 'all_points_x': [180, 181, 183, 185, 185, 185, 184, 183, 182, 180, 179, 179, 179], 'all_points_y': [340, 340, 340, 339, 338, 336, 335, 334, 334, 334, 335, 337, 338]}, 'region_attributes': {}}, {'shape_attributes': {'name': 'polygon', 'all_points_x': [282, 284, 287, 287, 286, 284, 282, 281, 279, 278, 278, 278, 280], 'all_points_y': [343, 343, 339, 337, 335, 334, 334, 334, 335, 337, 338, 340, 342]}, 'region_attributes': {}}, {'shape_attributes': {'name': 'polygon', 'all_points_x': [235, 237, 240, 241, 240, 239, 237, 235, 234, 234], 'all_points_y': [359, 360, 360, 357, 355, 353, 353, 354, 355, 357]}, 'region_attributes': {}}, {'shape_attributes': {'name': 'polygon', 'all_points_x': [240, 241, 243, 244, 244, 242, 241, 240], 'all_points_y': [362, 362, 362, 361, 359, 358, 358, 359]}, 'region_attributes': {}}, {'shape_attributes': {'name': 'polygon', 'all_points_x': [238, 240, 241, 241, 240, 239, 238, 237, 236, 236, 237], 'all_points_y': [366, 366, 365, 362, 361, 361, 361, 361, 362, 364, 365]}, 'region_attributes': {}}, {'shape_attributes': {'name': 'polygon', 'all_points_x': [254, 255, 260, 260, 260, 259, 258, 256, 254, 253, 253], 'all_points_y': [374, 375, 375, 374, 371, 370, 369, 369, 370, 371, 372]}, 'region_attributes': {}}, {'shape_attributes': {'name': 'polygon', 'all_points_x': [256, 258, 260, 260, 258, 255], 'all_points_y': [380, 380, 379, 378, 376, 377]}, 'region_attributes': {}}, {'shape_attributes': {'name': 'polygon', 'all_points_x': [334, 336, 339, 340, 339, 338, 337, 334, 333, 332, 331, 332], 'all_points_y': [402, 402, 401, 399, 397, 396, 395, 395, 396, 396, 398, 400]}, 'region_attributes': {}}, {'shape_attributes': {'name': 'polygon', 'all_points_x': [217, 221, 224, 226, 227, 227, 227, 226, 224, 222, 221, 219, 217, 216, 214, 213, 212, 212, 214, 215], 'all_points_y': [409, 409, 408, 406, 405, 402, 400, 398, 396, 395, 395, 395, 395, 396, 397, 398, 400, 403, 405, 407]}, 'region_attributes': {}}, {'shape_attributes': {'name': 'polygon', 'all_points_x': [429, 431, 434, 434, 434, 432, 430, 428, 426, 425, 427], 'all_points_y': [398, 398, 396, 394, 392, 390, 390, 390, 392, 394, 397]}, 'region_attributes': {}}, {'shape_attributes': {'name': 'polygon', 'all_points_x': [444, 446, 448, 449, 448, 446, 444, 443], 'all_points_y': [398, 399, 399, 396, 392, 391, 392, 395]}, 'region_attributes': {}}, {'shape_attributes': {'name': 'polygon', 'all_points_x': [55, 57, 59, 60, 60, 59, 57, 56, 55, 54, 52, 52, 53], 'all_points_y': [370, 370, 370, 368, 366, 364, 363, 363, 363, 364, 366, 367, 369]}, 'region_attributes': {}}, {'shape_attributes': {'name': 'polygon', 'all_points_x': [60, 63, 65, 65, 62, 61, 59], 'all_points_y': [372, 373, 371, 369, 366, 366, 369]}, 'region_attributes': {}}, {'shape_attributes': {'name': 'polygon', 'all_points_x': [148, 148, 148, 148, 149, 150, 151, 151, 153, 154, 155, 155, 157, 158, 158, 158, 159, 158, 157, 155, 153, 152, 149], 'all_points_y': [402, 405, 405, 406, 407, 406, 407, 408, 408, 408, 406, 408, 408, 408, 406, 404, 402, 400, 398, 397, 397, 397, 400]}, 'region_attributes': {}}, {'shape_attributes': {'name': 'polygon', 'all_points_x': [345, 347, 350, 350, 350, 349, 347, 346, 344, 342, 342, 343, 343], 'all_points_y': [462, 462, 460, 457, 456, 455, 454, 454, 454, 455, 458, 459, 459]}, 'region_attributes': {}}, {'shape_attributes': {'name': 'polygon', 'all_points_x': [276, 278, 280, 284, 284, 283, 280, 278, 276, 275, 275, 275], 'all_points_y': [476, 477, 478, 477, 474, 472, 469, 468, 469, 471, 472, 474]}, 'region_attributes': {}}, {'shape_attributes': {'name': 'polygon', 'all_points_x': [263, 264, 266, 268, 269, 269, 269, 268, 266, 265, 263, 263, 263], 'all_points_y': [475, 477, 478, 477, 476, 473, 470, 469, 468, 468, 469, 472, 473]}, 'region_attributes': {}}, {'shape_attributes': {'name': 'polygon', 'all_points_x': [261, 264, 265, 265, 262, 261, 260], 'all_points_y': [479, 479, 479, 477, 475, 475, 477]}, 'region_attributes': {}}, {'shape_attributes': {'name': 'polygon', 'all_points_x': [69, 72, 73, 74, 75, 77, 79, 78, 74, 73, 72, 71, 70, 69, 67, 67, 67, 68, 70], 'all_points_y': [461, 463, 464, 462, 461, 461, 459, 457, 455, 456, 458, 457, 456, 456, 456, 457, 458, 459, 460]}, 'region_attributes': {}}, {'shape_attributes': {'name': 'polygon', 'all_points_x': [47, 53, 58, 58, 55, 52, 48, 43, 41, 40, 39, 43], 'all_points_y': [105, 106, 111, 117, 121, 125, 125, 124, 121, 117, 112, 108]}, 'region_attributes': {}}, {'shape_attributes': {'name': 'polygon', 'all_points_x': [258, 262, 263, 263, 261, 259, 258], 'all_points_y': [172, 172, 170, 168, 167, 168, 169]}, 'region_attributes': {}}, {'shape_attributes': {'name': 'polygon', 'all_points_x': [445, 448, 451, 453, 453, 453, 452, 449, 448, 446], 'all_points_y': [104, 105, 105, 102, 100, 97, 96, 96, 98, 101]}, 'region_attributes': {}}, {'shape_attributes': {'name': 'polygon', 'all_points_x': [52, 56, 60, 61, 58, 55, 54, 52], 'all_points_y': [278, 278, 275, 273, 270, 269, 269, 273]}, 'region_attributes': {}}, {'shape_attributes': {'name': 'polygon', 'all_points_x': [355, 359, 360, 358, 356, 354], 'all_points_y': [439, 439, 436, 432, 432, 434]}, 'region_attributes': {}}, {'shape_attributes': {'name': 'polygon', 'all_points_x': [301, 306, 308, 308, 304, 302, 300, 300, 300], 'all_points_y': [464, 464, 462, 458, 456, 456, 456, 458, 460]}, 'region_attributes': {}}]\n"
     ]
    }
   ],
   "source": [
    "print(annotation['add_nuclei_1.png39426']['regions'])"
   ]
  },
  {
   "cell_type": "code",
   "execution_count": 7,
   "metadata": {},
   "outputs": [],
   "source": [
    "def get_regions_from_jsondict(in_json, regionkey='regions', shattr_key='shape_attributes', x_key='all_points_x', y_key='all_points_y'):\n",
    "    \"\"\"\n",
    "    Should return tuple: (names, nested coordinates)\n",
    "    nested coordinates are returned in the format y,x ie matrix coordinate format\n",
    "    \"\"\"\n",
    "    image_names = list(in_json.keys())\n",
    "    image_names.sort()\n",
    "    nested_out_coords =  []\n",
    "    for imname in image_names:\n",
    "        subdict = in_json[imname]\n",
    "        region_dicts = subdict[regionkey]\n",
    "        coords_per_image = []\n",
    "        for rdict in region_dicts:\n",
    "            sh_attrs = rdict[shattr_key]\n",
    "            x_coords = sh_attrs[x_key]\n",
    "            y_coords = sh_attrs[y_key]\n",
    "            coords_per_image.append(list(zip(y_coords, x_coords)))\n",
    "        nested_out_coords.append(coords_per_image)\n",
    "    return image_names, nested_out_coords\n",
    "\n",
    "def get_im_shape_from_coords(in_list):\n",
    "    return\n",
    "\n",
    "def draw_polygon(height, width, coords):\n",
    "    image = np.zeros((height, width))\n",
    "    if isinstance(coords, list):\n",
    "        coords = np.array(coords)\n",
    "    coords = coords.reshape((-1,1,2))\n",
    "    y_coords_tmp = coords[:,:,0].copy()\n",
    "    coords[:,:,0] = coords[:,:,1]\n",
    "    coords[:,:,1] = y_coords_tmp\n",
    "    #coords[:,:,1] = width - coords[:,:,1]\n",
    "    #coords[:,:,0] = height - coords[:,:,0]\n",
    "    #cv2.polylines(image, [coords], True, True)\n",
    "    cv2.fillPoly(image, [coords], True)\n",
    "    return image.astype(np.bool)\n",
    "\n",
    "def json_to_mask_array(in_json, imsizes=None):\n",
    "    ### infers smallest possible image size from maximum x and y coordinates if imsizes is None\n",
    "    ### so passing image sizes makes more sense of course\n",
    "    names, nested_coords = get_regions_from_jsondict(in_json)\n",
    "    out_arrays = []\n",
    "    for i in range(len(nested_coords)):\n",
    "        coords = nested_coords[i]\n",
    "        if not (imsizes is None):\n",
    "            if isinstance(imsizes, list) and isinstance(imsizes[0], list):\n",
    "                height = imsizes[i][0]\n",
    "                width = imsizes[i][1]\n",
    "            else:\n",
    "                height = imsizes[0]\n",
    "                width = imsizes[1]\n",
    "        else:\n",
    "            height, width = get_im_shape_from_coords(coords)\n",
    "        out_arr = np.zeros((height, width, len(coords))).astype(np.bool)\n",
    "        for k in range(len(coords)):\n",
    "            out_arr[:,:,k] = draw_polygon(height, width, coords[k])\n",
    "            if (i == 0) and (k < 3):\n",
    "                fig, ax = plt.subplots(figsize=(10,10))\n",
    "                ax.imshow(out_arr[:,:,k])\n",
    "                fig.show()\n",
    "        ### function to draw polygons goes here\n",
    "        out_arrays.append(out_arr)\n",
    "    return names, out_arrays"
   ]
  },
  {
   "cell_type": "code",
   "execution_count": 8,
   "metadata": {},
   "outputs": [
    {
     "name": "stderr",
     "output_type": "stream",
     "text": [
      "<ipython-input-7-8031ec2350b7>:60: UserWarning: Matplotlib is currently using module://ipykernel.pylab.backend_inline, which is a non-GUI backend, so cannot show the figure.\n",
      "  fig.show()\n"
     ]
    },
    {
     "data": {
      "image/png": "[encoded data removed]",
      "text/plain": [
       "<Figure size 720x720 with 1 Axes>"
      ]
     },
     "metadata": {
      "needs_background": "light"
     },
     "output_type": "display_data"
    },
    {
     "data": {
      "image/png": "[encoded data removed]",
      "text/plain": [
       "<Figure size 720x720 with 1 Axes>"
      ]
     },
     "metadata": {
      "needs_background": "light"
     },
     "output_type": "display_data"
    },
    {
     "data": {
      "image/png": "[encoded data removed]",
      "text/plain": [
       "<Figure size 720x720 with 1 Axes>"
      ]
     },
     "metadata": {
      "needs_background": "light"
     },
     "output_type": "display_data"
    }
   ],
   "source": [
    "image_names, mask_arrays = json_to_mask_array(annotation, imsizes=(512,512))"
   ]
  },
  {
   "cell_type": "code",
   "execution_count": 9,
   "metadata": {},
   "outputs": [
    {
     "name": "stdout",
     "output_type": "stream",
     "text": [
      "['add_nuclei_1.png39426', 'add_nuclei_10.png52914', 'add_nuclei_11.png54986']\n"
     ]
    }
   ],
   "source": [
    "print(image_names[:3])"
   ]
  },
  {
   "cell_type": "code",
   "execution_count": 10,
   "metadata": {},
   "outputs": [
    {
     "name": "stdout",
     "output_type": "stream",
     "text": [
      "20\n"
     ]
    }
   ],
   "source": [
    "print(len(mask_arrays))"
   ]
  },
  {
   "cell_type": "code",
   "execution_count": 11,
   "metadata": {},
   "outputs": [
    {
     "data": {
      "text/plain": [
       "numpy.ndarray"
      ]
     },
     "execution_count": 11,
     "metadata": {},
     "output_type": "execute_result"
    }
   ],
   "source": [
    "type(mask_arrays[0])"
   ]
  },
  {
   "cell_type": "code",
   "execution_count": 12,
   "metadata": {},
   "outputs": [
    {
     "name": "stderr",
     "output_type": "stream",
     "text": [
      "<ipython-input-12-3313c5871dd1>:10: UserWarning: Matplotlib is currently using module://ipykernel.pylab.backend_inline, which is a non-GUI backend, so cannot show the figure.\n",
      "  fig.show()\n"
     ]
    },
    {
     "data": {
      "image/png": "[encoded data removed]",
      "text/plain": [
       "<Figure size 720x720 with 1 Axes>"
      ]
     },
     "metadata": {
      "needs_background": "light"
     },
     "output_type": "display_data"
    }
   ],
   "source": [
    "## make image out of first mask array to compare with original image\n",
    "show_im = np.zeros((512,512))\n",
    "masks_here = mask_arrays[0]\n",
    "for i in range(masks_here.shape[2]):\n",
    "    m = masks_here[:,:,i]\n",
    "    show_im += m #* (i+1)\n",
    "    \n",
    "fig, ax = plt.subplots(figsize=(10,10))\n",
    "ax.imshow(show_im)\n",
    "fig.show()"
   ]
  },
  {
   "cell_type": "code",
   "execution_count": 31,
   "metadata": {},
   "outputs": [],
   "source": [
    "def reformat_name(in_name, file_ending='.png'):\n",
    "    prefix, _ = in_name.split(file_ending)\n",
    "    return prefix + file_ending\n",
    "\n",
    "def create_annotation_data_folder(annotation, orig_image_folder, target_folder, file_ending='.png', stop_image=None):\n",
    "    if not isdir(target_folder):\n",
    "        mkdir(target_folder)\n",
    "    image_names, mask_arrays = json_to_mask_array(annotation, imsizes=(512,512))\n",
    "    for i in range(len(image_names)):\n",
    "        use_name = reformat_name(image_names[i], file_ending=file_ending)\n",
    "        use_prefix, _ = use_name.split(file_ending)\n",
    "        if not (stop_image is None):\n",
    "            if stop_image in use_prefix:\n",
    "                print('Reached stop image. Ending')\n",
    "                break\n",
    "        orig_im_path = join(orig_image_folder, use_name)\n",
    "        target_im_folder = join(target_folder, use_prefix)\n",
    "        mkdir(target_im_folder)\n",
    "        target_im_folder_im = join(target_im_folder, 'images')\n",
    "        mkdir(target_im_folder_im)\n",
    "        target_im_folder_mask = join(target_im_folder, 'masks')\n",
    "        mkdir(target_im_folder_mask)\n",
    "        shutil.copy(orig_im_path, target_im_folder_im)\n",
    "        m_arr = mask_arrays[i]\n",
    "        for k in range(m_arr.shape[2]):\n",
    "            target_path = join(target_im_folder_mask, use_prefix + str(k) + file_ending)\n",
    "            cv2.imwrite(target_path, m_arr[:,:,k] * 255)\n",
    "        print('Finished writing images and masks for image ' + use_name)\n",
    "    return"
   ]
  },
  {
   "cell_type": "code",
   "execution_count": 32,
   "metadata": {},
   "outputs": [],
   "source": [
    "target_folder = win_root + 'Users/bhaladik/mrcnn_development/training_data/inhouse_data'"
   ]
  },
  {
   "cell_type": "code",
   "execution_count": 33,
   "metadata": {},
   "outputs": [
    {
     "name": "stderr",
     "output_type": "stream",
     "text": [
      "<ipython-input-7-8031ec2350b7>:60: UserWarning: Matplotlib is currently using module://ipykernel.pylab.backend_inline, which is a non-GUI backend, so cannot show the figure.\n",
      "  fig.show()\n"
     ]
    },
    {
     "name": "stdout",
     "output_type": "stream",
     "text": [
      "Finished writing images and masks for image add_nuclei_1.png\n",
      "Finished writing images and masks for image add_nuclei_10.png\n",
      "Finished writing images and masks for image add_nuclei_11.png\n",
      "Finished writing images and masks for image add_nuclei_12.png\n",
      "Finished writing images and masks for image add_nuclei_13.png\n",
      "Finished writing images and masks for image add_nuclei_14.png\n",
      "Finished writing images and masks for image add_nuclei_15.png\n",
      "Finished writing images and masks for image add_nuclei_16.png\n",
      "Finished writing images and masks for image add_nuclei_17.png\n",
      "Finished writing images and masks for image add_nuclei_18.png\n",
      "Finished writing images and masks for image add_nuclei_19.png\n",
      "Finished writing images and masks for image add_nuclei_2.png\n",
      "Finished writing images and masks for image add_nuclei_20.png\n",
      "Finished writing images and masks for image add_nuclei_3.png\n",
      "Finished writing images and masks for image add_nuclei_4.png\n",
      "Finished writing images and masks for image add_nuclei_5.png\n",
      "Finished writing images and masks for image add_nuclei_6.png\n",
      "Finished writing images and masks for image add_nuclei_7.png\n",
      "Finished writing images and masks for image add_nuclei_8.png\n",
      "Finished writing images and masks for image add_nuclei_9.png\n"
     ]
    },
    {
     "data": {
      "image/png": "[encoded data removed]",
      "text/plain": [
       "<Figure size 720x720 with 1 Axes>"
      ]
     },
     "metadata": {
      "needs_background": "light"
     },
     "output_type": "display_data"
    },
    {
     "data": {
      "image/png": "[encoded data removed]",
      "text/plain": [
       "<Figure size 720x720 with 1 Axes>"
      ]
     },
     "metadata": {
      "needs_background": "light"
     },
     "output_type": "display_data"
    },
    {
     "data": {
      "image/png": "[encoded data removed]",
      "text/plain": [
       "<Figure size 720x720 with 1 Axes>"
      ]
     },
     "metadata": {
      "needs_background": "light"
     },
     "output_type": "display_data"
    }
   ],
   "source": [
    "create_annotation_data_folder(annotation, image_an_folder, target_folder, stop_image=None)"
   ]
  },
  {
   "cell_type": "code",
   "execution_count": null,
   "metadata": {},
   "outputs": [],
   "source": []
  }
 ],
 "metadata": {
  "kernelspec": {
   "display_name": "Python 3",
   "language": "python",
   "name": "python3"
  },
  "language_info": {
   "codemirror_mode": {
    "name": "ipython",
    "version": 3
   },
   "file_extension": ".py",
   "mimetype": "text/x-python",
   "name": "python",
   "nbconvert_exporter": "python",
   "pygments_lexer": "ipython3",
   "version": "3.6.9"
  }
 },
 "nbformat": 4,
 "nbformat_minor": 2
}
